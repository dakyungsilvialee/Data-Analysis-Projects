{
  "nbformat": 4,
  "nbformat_minor": 0,
  "metadata": {
    "colab": {
      "provenance": [],
      "authorship_tag": "ABX9TyMT2fglTtI0t3pbH6s0ehdb",
      "include_colab_link": true
    },
    "kernelspec": {
      "name": "python3",
      "display_name": "Python 3"
    },
    "language_info": {
      "name": "python"
    }
  },
  "cells": [
    {
      "cell_type": "markdown",
      "metadata": {
        "id": "view-in-github",
        "colab_type": "text"
      },
      "source": [
        "<a href=\"https://colab.research.google.com/github/dakyungsilvialee/Data-Analysis-Projects/blob/main/Lee_IA4.ipynb\" target=\"_parent\"><img src=\"https://colab.research.google.com/assets/colab-badge.svg\" alt=\"Open In Colab\"/></a>"
      ]
    },
    {
      "cell_type": "code",
      "source": [
        "import requests"
      ],
      "metadata": {
        "id": "09hGXu6uGFav"
      },
      "execution_count": 1,
      "outputs": []
    },
    {
      "cell_type": "code",
      "source": [
        "# PART 1\n",
        "\n",
        "\n",
        "# Write a Python function that takes the parameter url and returns a list of reviews.\n",
        "URL1 = requests.get(\"https://www.rottentomatoes.com/m/black_adam/reviews\")\n",
        "html = URL1.text\n",
        "\n",
        "# Extract first page of review\n",
        "from bs4 import BeautifulSoup\n",
        "soup = BeautifulSoup(html, 'html.parser')\n",
        "review = soup.findAll('div',{'class':\"the_review\"}) \n",
        "\n",
        "# Extract text from first page of review\n",
        "black_adam_text =[]\n",
        "\n",
        "for i in review:\n",
        "  black_adam_text.append(i.text)\n",
        "  print(i.text)"
      ],
      "metadata": {
        "id": "Tn8Qh892b2Dw",
        "colab": {
          "base_uri": "https://localhost:8080/"
        },
        "outputId": "4c2fd6c8-da89-4590-f74f-9f663fca5bf5"
      },
      "execution_count": 17,
      "outputs": [
        {
          "output_type": "stream",
          "name": "stdout",
          "text": [
            "\r\n",
            "                    Pierce Brosnan as Doctor Fate provides the best performance, looking debonair and put together, even as he struggles to convince Adam that he can become the champion that his people need.\r\n",
            "                \n",
            "\r\n",
            "                    Jaume Collet-Serra is a gifted craftsman who deserves much better than this, because his talents are both wasted and buried beneath layers of ugly CGI, an overbearing score, and a story that makes the proverbial dull dishwater look positively vibrant. \r\n",
            "                \n",
            "\r\n",
            "                    There’s something morally deadening and aesthetically depressing about the bottomless toy chest of C.G.I. being reduced to the toolbox of cinematic bureaucracy.\r\n",
            "                \n",
            "\r\n",
            "                    Black Adam is somewhat entertaining, but the movie feels like a missed opportunity. A good film is hiding in this mess somewhere, but director Jaume Collet-Serra just couldn’t find it.\r\n",
            "                \n",
            "\r\n",
            "                    No only repeats the apparently insurmountable errors of its predecessor counterparts, but it seems to be built on a pastiche devoid of personality that turns its viewing in a déjà-vu saved in extremis by the laudable dedication of Dwayne Johnson.\r\n",
            "                \n",
            "\r\n",
            "                    Suffering from the inability to say no, director Jaume Collet-Serra presides over an excess of ... everything. Too many superheroes, too much plot, an abundance of fighting, of CGI, and in some of his famous cast, an abundance of scenery-chewing.\r\n",
            "                \n",
            "\r\n",
            "                    A straightforward action. It starts and it doesn't stop. \r\n",
            "                \n",
            "\r\n",
            "                    Dwayne \"The Rock\" Johnson as Black Adam is perfect casting it's perfect casting.\r\n",
            "                \n",
            "\r\n",
            "                    Not a fresh thought to be found, but with enough flash, rattle and roll to maybe entertain the younger fan.\r\n",
            "                \n",
            "\r\n",
            "                    Black Adam is mostly a movie made up of strictly baseline ideas, or the regurgitation of already existing ones. \r\n",
            "                \n",
            "\r\n",
            "                    Goofy, unpretentious crowd-pleaser mode isn’t exactly a bad look for Black Adam. \r\n",
            "                \n",
            "\r\n",
            "                    Black Adam fails to be a memorable, cinematic action film. With haphazard storytelling, increasingly tedious and repetitive action scenes and forgettable characters, the latest DC entry lands with a heavy thud.\r\n",
            "                \n",
            "\r\n",
            "                    Black Adam is surprisingly compelling, both as a reactionary statement against the state of superhero cinema with geopolitical ambitions and a fun expression of all of the things it’s railing against.\r\n",
            "                \n",
            "\r\n",
            "                    Considering how much has been done with the subgenre in recent years, it makes sense that there are certain expectations towards this type of film, and unfortunately, \"Black Adam\" does not live up to many of them. Full review in Spanish.\r\n",
            "                \n",
            "\r\n",
            "                    Black Adam is two hours of flying and punching that grounds its likeable cast just long enough for it to be decent blockbuster fun. \r\n",
            "                \n",
            "\r\n",
            "                    While DC explores a darker, over-serious side of the comic-book superhero genre, at least that adds an original tone to this action-packed apocalyptic romp.\r\n",
            "                \n",
            "\r\n",
            "                    It’s distinguished itself just enough to satiate action film fans, entertain future streaming audiences and warrant further merging into the DC universe.\r\n",
            "                \n",
            "\r\n",
            "                    Doppelgangers have always been a staple between the competing comic companies but in this slapped-together entry, the DCU has officially transformed (or transmorphed) into The Asylum video boxes designed to trick viewers they are watching the real thing.\r\n",
            "                \n",
            "\r\n",
            "                    Why the vitriol for what it an entertaining comic book movie? It wasn’t perfect, the story is tangled, but it reminded me of those memories when the hero comes around in the last pages of my 25 cent comic in the 1970s. Audience 90 Critics 39. Nuff said.\r\n",
            "                \n",
            "\r\n",
            "                    The world-building in the film brings in the justice society and some notable hero names, but its still a bit boiler-plate with the plot. And while I enjoyed Johnson&aposs BA, the character feels like it was written for ego, not for growth.\r\n",
            "                \n"
          ]
        }
      ]
    },
    {
      "cell_type": "code",
      "source": [
        "# Write a Python function that takes the parameter url and returns a list of reviews.\n",
        "URL2 = requests.get(\"https://www.rottentomatoes.com/m/the_good_nurse/reviews\")\n",
        "html2 = URL2.text\n",
        "\n",
        "# Extract second page of review\n",
        "soup = BeautifulSoup(html2, 'html.parser')\n",
        "review2 = soup.findAll('div',{'class':\"the_review\"}) \n",
        "\n",
        "# Extract text from second page of review\n",
        "the_good_nurse_text =[]\n",
        "\n",
        "for i in review2:\n",
        "  the_good_nurse_text.append(i.text)\n",
        "  print(i.text)"
      ],
      "metadata": {
        "id": "GV9q6cal59pF",
        "colab": {
          "base_uri": "https://localhost:8080/"
        },
        "outputId": "cec7d960-7ee7-42e2-8225-2eca962ecb69"
      },
      "execution_count": 18,
      "outputs": [
        {
          "output_type": "stream",
          "name": "stdout",
          "text": [
            "\r\n",
            "                    Its mood is sombre and while the lack of third-act twists might disappoint traditionalists, a stern moral seriousness underpins this quietly compelling film, which is grounded by two subtle and underplayed lead performances.\r\n",
            "                \n",
            "\r\n",
            "                    This spellbinding film will get all kinds of awards attention thanks to the superb work of Danish director Tobias Lindholm. The characters come across as complex personalities thanks to consistently first-rate performances,\r\n",
            "                \n",
            "\r\n",
            "                    Lindholm sows a suspense film built on looks and close-ups where Chastain is both fragile and precise... [Full review in Spanish]\r\n",
            "                \n",
            "\r\n",
            "                    The Good Nurse speaks to you because, as Cullen says, \"no one stopped me,\" \r\n",
            "                \n",
            "\r\n",
            "                    Lindholm's film is soberly effective, if dramatically tamped down. That kind of focused severity limits the emotional register for Chastain and Redmayne to a degree, but it also encourages the pair of powerhouses to internalize their performances.\r\n",
            "                \n",
            "\r\n",
            "                    Barring a couple of moments — you will recognise one of them featuring Redmayne immediately — The Good Nurse has none of the loud, scenery chewing performances that one would normally associate with Oscar-bait such as this. \r\n",
            "                \n",
            "\r\n",
            "                    “The Good Nurse” should have been a much more compelling film, but it’s hampered by a very deliberate pace and low-key approach. However, the leads are just what the doctor ordered.\r\n",
            "                \n",
            "\r\n",
            "                    ...The Good Nurse is a film worth watching especially for performances from stars Eddie Redmayne and Jessica Chastain.\r\n",
            "                \n",
            "\r\n",
            "                    The Good Nurse will definitely make you think twice when a nurse floats in your direction with an IV, yet make you marvel at the intrinsically terrifying characterization from Eddie Redmayne\r\n",
            "                \n",
            "\r\n",
            "                    “The Good Nurse” offers no assurances that its danger is safely locked away. In the judgment of the film, Cullen is just a side effect of an institutional cancer.\r\n",
            "                \n",
            "\r\n",
            "                    While the crime thriller is the real hook for “The Good Nurse,” including fine, no nonsense performances by Chastain and Redmayne, the scathing indictment of the hospital system is the meat of the story.\r\n",
            "                \n",
            "\r\n",
            "                    “The Good Nurse” is at its best as a medical police procedural. It helps that Noah Emmerich and Nnamdi Asomugha, playing the cops, give solid, understated performances.\r\n",
            "                \n",
            "\r\n",
            "                    Ms. Chastain infuses Amy with so much moment-to-moment subtle naturalism that I forgot I was watching an actress at work and really believed I was in the company of an actual overworked, underpaid nurse.\r\n",
            "                \n",
            "\r\n",
            "                    Lindholm’s stealthy restraint fits the material like a glove, and both get under your skin.\r\n",
            "                \n",
            "\r\n",
            "                    A flaccid thriller devoid of any sense of dread or fun.\r\n",
            "                \n",
            "\r\n",
            "                    It’s wearing its Oscars outfit, but it works because it has a Law and Order heart.\r\n",
            "                \n",
            "\r\n",
            "                    The Good Nurse has its fair share of interesting moments and accomplished actors to bring them to life, but it falls short of being a must-watch. It’s a serial killer movie that mostly omits the killing, taking most of its reason for being with it.\r\n",
            "                \n",
            "\r\n",
            "                    The movie doesn’t insult our intelligence or cheapen the gravity by dragging out the question of his guilt. But that leaves dramatic space to fill. \r\n",
            "                \n",
            "\r\n",
            "                    Despite being predictable and lacking a punchy climax, The Good Nurse is an effective slow-build thriller with an intriguing premise that reflects a shocking true story and is well-acted by its leads.\r\n",
            "                \n",
            "\r\n",
            "                    A solid, respectable piece of work, with a creepily effective performance by Eddie Redmayne, but it doesn’t stand out in this now-crowded genre.\r\n",
            "                \n"
          ]
        }
      ]
    },
    {
      "cell_type": "code",
      "source": [
        "# Write a Python function that takes the parameter url and returns a list of reviews.\n",
        "myURL3 = requests.get(\"https://www.rottentomatoes.com/m/minions_the_rise_of_gru/reviews\")\n",
        "html3 = myURL3.text\n",
        "\n",
        "# Extract third page of review\n",
        "soup = BeautifulSoup(html3, 'html.parser')\n",
        "review3 = soup.findAll('div',{'class':\"the_review\"}) \n",
        "\n",
        "# Extract text from third page of review\n",
        "minions_text =[]\n",
        "\n",
        "for i in review3:\n",
        "  minions_text.append(i.text)\n",
        "  print(i.text)"
      ],
      "metadata": {
        "id": "SnWvQUoGeA_6",
        "colab": {
          "base_uri": "https://localhost:8080/"
        },
        "outputId": "44aceb6d-9b15-40c2-e962-75dfc035fa54"
      },
      "execution_count": 19,
      "outputs": [
        {
          "output_type": "stream",
          "name": "stdout",
          "text": [
            "\r\n",
            "                    the humor is persistent and we can’t help but care for Gru and his nascent villainy\r\n",
            "                \n",
            "\r\n",
            "                    Minions: The Rise of Gru might not be sophisticated storytelling, but not all animated films have to be. Sometimes they can just be about joy.\r\n",
            "                \n",
            "\r\n",
            "                    In four years, Minions: The Adventure of Chicken Minion will make two billion dollars and save the cinematic experience once and for all.\r\n",
            "                \n",
            "\r\n",
            "                    A few time-capsule gags break the tedium that has now come to define this deathless series.\r\n",
            "                \n",
            "\r\n",
            "                    Gru is 11, but appears the same age he was in the first movie, 10 years prior. Yes, this is a cartoon about gibberish-spewing ovate goblins where humans morph into giant Chinese New Year monsters, but one does want a *hint* of narrative consistency.\r\n",
            "                \n",
            "\r\n",
            "                    By bringing in a couple of veteran talents to the voice cast in Arkin and Yeoh, the freshness abides in this sequel--instead of being a stale, shameless money grab that gets forgotten after the lights come up. \r\n",
            "                \n",
            "\r\n",
            "                    Director Kyle Balda has been at the helm of a number of others in this franchise and he sure knows what his audiences want. The kids in my sessions were laughing out loud and the parents seemed to be enjoying it too.\r\n",
            "                \n",
            "\r\n",
            "                    The animated comedy is an 88-minute delight, further enlivened by the talented voice cast...\r\n",
            "                \n",
            "\r\n",
            "                    It is, at best, unforgettable.\r\n",
            "                \n",
            "\r\n",
            "                    A fun treat for the whole family, “Minions: the Rise of Gru” is another in a string of successful and well made animated films starring these Twinkie-looking oddities and their hook-nosed leader. \r\n",
            "                \n",
            "\r\n",
            "                    There’s nothing innately wrong here, it just feels uninspired, like some of the franchise&aposs joy and pizazz has worn off. There is still plenty for the kids to enjoy, so that’s a win in my eyes even if the movie itself isn’t.\r\n",
            "                \n",
            "\r\n",
            "                    Good plot, fast-moving, just weird enough to be funny and a little subversive, deeply silly and completely unpretentious but fails to exploit all the possibilities of an origin story.\r\n",
            "                \n",
            "\r\n",
            "                    It&aposs wildly colorful, silly, fun, fast, has a great voice cast, cool soundtrack, and a perfect escape to a cool dark place in the heat of the summer for families.\r\n",
            "                \n",
            "\r\n",
            "                    What is plain to see though is that this is a series that continue to exist not because it has interesting stories to tell but because it is marketable and still makes the studio plenty of cash.\r\n",
            "                \n",
            "\r\n",
            "                    “The Rise of Gru” isn’t a complete waste; there’s the occasional inspired sight gag, particularly the prop work in the martial arts training sequence, and Arkin seems to have a good time (it’s surprising he hasn’t done more voice work). \r\n",
            "                \n",
            "\r\n",
            "                    There isn’t much evil to speak of, which would be fine if there was any true good for the middling acts of no good to contrast with. It’s not easy to get the right balance of bad in a movie for kids, but the stakes have to be higher. Scar DID that.\r\n",
            "                \n",
            "\r\n",
            "                    An inoffensive addition to the universe, Minions: The Rise of Gru is more of a brand extension than a prequel. It may drive their parents bananas, but the lightning fast slapstick will see smaller viewers rolling in the aisles.\r\n",
            "                \n",
            "\r\n",
            "                    The inclusion of a disco torture machine that plays Andrea True’s More More More on a loop is not dissimilar to experiencing the incessant soundtrack, which is often deployed as a lazy means of running down the clock.\r\n",
            "                \n",
            "\r\n",
            "                    Animation is well done and the little characters are winsome with special personalities.\r\n",
            "                \n",
            "\r\n",
            "                    While it might be hard to call Minions: The Rise of Gru a disappointment due to the lack of expectations in the first place, even for the yellow creatures there is something especially poor about this effort. \r\n",
            "                \n"
          ]
        }
      ]
    },
    {
      "cell_type": "code",
      "source": [
        "# PART 2\n",
        "\n",
        "# Load the positive and negative words using csv.reader into python. \n",
        "import csv \n",
        "\n",
        "fp = open('positive-words.csv', 'r') \n",
        "cp = csv.reader(fp) \n",
        "\n",
        "fn = open('negative-words.csv', 'r') \n",
        "cn = csv.reader(fn) "
      ],
      "metadata": {
        "id": "E3rV6edyLHFQ"
      },
      "execution_count": 20,
      "outputs": []
    },
    {
      "cell_type": "code",
      "source": [
        "# Functions (numPositiveWords, numNegativeWords, sentimental score) that returns a total number of positive and negative words in the scraped review\n",
        "def numPositiveWords(text): \n",
        "    fp = open('positive-words.csv', 'r') \n",
        "    cp = csv.reader(fp) \n",
        " \n",
        "    count = 0 \n",
        "    for word in cp: \n",
        "        if word[0] in text: \n",
        "            count +=1 \n",
        "    return count \n",
        "\n",
        "\n",
        "def numNegativeWords(text): \n",
        "    fn = open('negative-words.csv', 'r') \n",
        "    cn = csv.reader(fn) \n",
        "     \n",
        "    count = 0 \n",
        "    for word in cn: \n",
        "        if word[0] in text: \n",
        "            count +=1 \n",
        "    return count \n",
        "\n",
        "\n",
        "def sentimentScore(pos, neg, tot): \n",
        "    return (pos-neg)/tot "
      ],
      "metadata": {
        "id": "L_megV8QLHKQ"
      },
      "execution_count": 22,
      "outputs": []
    },
    {
      "cell_type": "code",
      "source": [
        "# Store the value of the sentiment score for each review in a list\n",
        "  # e.g if black adam had 4 reviews with sentiment scores 0.2, 0.8, 0.4, and 0.5, it would be [0.2, 0.8, 0.4, 0.5]\n",
        "  # Create three lists that contain all of the sentiment scores for each movie\n",
        "slist = []\n",
        "\n",
        "for rev in black_adam_text:\n",
        "  n = numNegativeWords(rev) \n",
        "  p = numPositiveWords(rev) \n",
        "  t = len(rev.split(' ')) \n",
        "  s = sentimentScore(p,n,t) \n",
        "  slist.append(s)\n",
        "print(f\"positive word:{p}, negative words:{n}, sentiment score:{slist}\") \n",
        "# Average sentimental score from Black Adams\n",
        "avg = sum(slist)/len(slist) \n",
        "print(\"Black Adam Average Sentimental Score:\", avg)\n",
        "\n",
        "\n",
        "\n",
        "slist2 = []\n",
        "\n",
        "for rev in the_good_nurse_text:\n",
        "  n = numNegativeWords(rev) \n",
        "  p = numPositiveWords(rev) \n",
        "  t = len(rev.split(' ')) \n",
        "  s = sentimentScore(p,n,t) \n",
        "  slist2.append(s)\n",
        "print(f\"positive word:{p}, negative words:{n}, sentiment score:{slist2}\") \n",
        "\n",
        "# Average sentimental score from The Good Nurse\n",
        "avg2 = sum(slist2)/len(slist2) \n",
        "print(\"The Good Nurse Average Sentimental Score:\", avg2)\n",
        "\n",
        "\n",
        "\n",
        "slist3 = []\n",
        "\n",
        "for rev in minions_text:\n",
        "  n = numNegativeWords(rev) \n",
        "  p = numPositiveWords(rev) \n",
        "  t = len(rev.split(' ')) \n",
        "  s = sentimentScore(p,n,t) \n",
        "  slist3.append(s)\n",
        "print(f\"positive word:{p}, negative words:{n}, sentiment score:{slist3}\") \n",
        "\n",
        "# Average sentimental score from Minions\n",
        "avg3 = sum(slist3)/len(slist3) \n",
        "print(\"Minions The Rise of Gru:\", avg3)"
      ],
      "metadata": {
        "colab": {
          "base_uri": "https://localhost:8080/"
        },
        "id": "CAKckBRC4aet",
        "outputId": "f39311bb-fde7-48ce-f162-e367a149ed52"
      },
      "execution_count": 27,
      "outputs": [
        {
          "output_type": "stream",
          "name": "stdout",
          "text": [
            "positive word:5, negative words:4, sentiment score:[0.014925373134328358, 0.012987012987012988, -0.08620689655172414, -0.06060606060606061, -0.013157894736842105, 0.0, 0.043478260869565216, -0.02040816326530612, 0.017857142857142856, -0.07142857142857142, -0.08163265306122448, -0.1044776119402985, -0.014925373134328358, -0.025974025974025976, 0.0, -0.016666666666666666, 0.0, -0.05405405405405406, 0.023809523809523808, 0.01282051282051282]\n",
            "Black Adam Average Sentimental Score: -0.02118300724705082\n",
            "positive word:5, negative words:3, sentiment score:[-0.07246376811594203, 0.058823529411764705, -0.03508771929824561, 0.0196078431372549, -0.0684931506849315, -0.013513513513513514, 0.0, -0.018518518518518517, -0.05970149253731343, 0.015384615384615385, -0.05714285714285714, 0.031746031746031744, -0.04285714285714286, 0.0, 0.0, 0.0, -0.037037037037037035, -0.08064516129032258, -0.04411764705882353, 0.03389830508474576]\n",
            "The Good Nurse Average Sentimental Score: -0.01850588416451176\n",
            "positive word:0, negative words:6, sentiment score:[0.0, 0.03278688524590164, -0.01694915254237288, -0.019230769230769232, -0.075, -0.013513513513513514, -0.02564102564102564, 0.08, 0.04878048780487805, 0.057971014492753624, 0.02564102564102564, -0.12307692307692308, 0.0, -0.0273972602739726, -0.012987012987012988, 0.011363636363636364, -0.02666666666666667, -0.08108108108108109, 0.061224489795918366, -0.08108108108108109]\n",
            "Minions The Rise of Gru: -0.009242847337515254\n"
          ]
        }
      ]
    },
    {
      "cell_type": "code",
      "source": [
        "# Print the movie name that has highest average sentiment score\n",
        "largest_score = avg3\n",
        "for i in [avg, avg2, avg3]:\n",
        "  if i > largest_score:\n",
        "    largest_num = i\n",
        "print(\"Minions The Rise of Gru\", largest_score)"
      ],
      "metadata": {
        "id": "F6nX2LLQGhWm",
        "colab": {
          "base_uri": "https://localhost:8080/"
        },
        "outputId": "ddf47e40-3227-4cbb-f386-cc00c4b9e2d6"
      },
      "execution_count": 28,
      "outputs": [
        {
          "output_type": "stream",
          "name": "stdout",
          "text": [
            "Minions The Rise of Gru -0.009242847337515254\n"
          ]
        }
      ]
    }
  ]
}